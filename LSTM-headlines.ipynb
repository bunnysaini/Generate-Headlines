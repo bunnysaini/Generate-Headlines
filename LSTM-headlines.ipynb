{
 "cells": [
  {
   "cell_type": "markdown",
   "id": "aeae886c",
   "metadata": {},
   "source": [
    "# Generate Headlines using LSTM "
   ]
  },
  {
   "cell_type": "markdown",
   "id": "e9193895",
   "metadata": {},
   "source": [
    "# Import Packages"
   ]
  },
  {
   "cell_type": "code",
   "execution_count": 1,
   "id": "fd2261df",
   "metadata": {},
   "outputs": [],
   "source": [
    "# keras module for building LSTM \n",
    "from keras.preprocessing.sequence import pad_sequences\n",
    "from keras.layers import Embedding, LSTM, Dense, Dropout\n",
    "from keras.preprocessing.text import Tokenizer\n",
    "from keras.callbacks import EarlyStopping\n",
    "from keras.models import Sequential\n",
    "import keras.utils as ku\n",
    "from keras.utils import np_utils\n",
    "import tensorflow\n",
    "\n",
    "# set seeds for reproducability\n",
    "from numpy.random import seed\n",
    "tensorflow.random.set_seed(2)\n",
    "seed(1)\n",
    "\n",
    "import pandas as pd\n",
    "import numpy as np\n",
    "import string, os \n",
    "\n",
    "import warnings\n",
    "warnings.filterwarnings(\"ignore\")\n",
    "warnings.simplefilter(action='ignore', category=FutureWarning)"
   ]
  },
  {
   "cell_type": "markdown",
   "id": "9ae35156",
   "metadata": {},
   "source": [
    "# Data Pre-Proccessing"
   ]
  },
  {
   "cell_type": "markdown",
   "id": "cdbaef1f",
   "metadata": {},
   "source": [
    "## Extract headlines from all the three .csv files "
   ]
  },
  {
   "cell_type": "code",
   "execution_count": 2,
   "id": "4930d64a",
   "metadata": {},
   "outputs": [
    {
     "name": "stdout",
     "output_type": "stream",
     "text": [
      "articles1.csv\n",
      "articles2.csv\n",
      "articles3.csv\n"
     ]
    },
    {
     "data": {
      "text/plain": [
       "142568"
      ]
     },
     "execution_count": 2,
     "metadata": {},
     "output_type": "execute_result"
    }
   ],
   "source": [
    "curr_dir = '/LSTM/Articles/'\n",
    "all_headlines = []\n",
    "for filename in os.listdir(curr_dir):\n",
    "    print(filename)\n",
    "    if 'articles' in filename:\n",
    "        article_df = pd.read_csv(curr_dir + filename)\n",
    "        all_headlines.extend(list(article_df.title.values))\n",
    "\n",
    "all_headlines = [h for h in all_headlines if type(h) == str]\n",
    "len(all_headlines)"
   ]
  },
  {
   "cell_type": "code",
   "execution_count": 3,
   "id": "6cc3dd56",
   "metadata": {},
   "outputs": [
    {
     "data": {
      "text/plain": [
       "['House Republicans Fret About Winning Their Health Care Suit - The New York Times',\n",
       " 'Rift Between Officers and Residents as Killings Persist in South Bronx - The New York Times',\n",
       " 'Tyrus Wong, ‘Bambi’ Artist Thwarted by Racial Bias, Dies at 106 - The New York Times',\n",
       " 'Among Deaths in 2016, a Heavy Toll in Pop Music - The New York Times',\n",
       " 'Kim Jong-un Says North Korea Is Preparing to Test Long-Range Missile - The New York Times',\n",
       " 'Sick With a Cold, Queen Elizabeth Misses New Year’s Service - The New York Times',\n",
       " 'Taiwan’s President Accuses China of Renewed Intimidation - The New York Times',\n",
       " 'After ‘The Biggest Loser,’ Their Bodies Fought to Regain Weight - The New York Times',\n",
       " 'First, a Mixtape. Then a Romance. - The New York Times',\n",
       " 'Calling on Angels While Enduring the Trials of Job - The New York Times']"
      ]
     },
     "execution_count": 3,
     "metadata": {},
     "output_type": "execute_result"
    }
   ],
   "source": [
    "all_headlines[:10]"
   ]
  },
  {
   "cell_type": "markdown",
   "id": "e2440ed4",
   "metadata": {},
   "source": [
    "## Cleaning the Data "
   ]
  },
  {
   "cell_type": "markdown",
   "id": "61d4f6d1",
   "metadata": {},
   "source": [
    "- Remove ' - The New York Times'\n",
    "- Remove punctuations and turn into lowercase\n",
    "- Ignore symbols"
   ]
  },
  {
   "cell_type": "code",
   "execution_count": 4,
   "id": "9725d795",
   "metadata": {},
   "outputs": [
    {
     "data": {
      "text/plain": [
       "['house republicans fret about winning their health care suit  ',\n",
       " 'rift between officers and residents as killings persist in south bronx  ',\n",
       " 'tyrus wong bambi artist thwarted by racial bias dies at 106  ',\n",
       " 'among deaths in 2016 a heavy toll in pop music  ',\n",
       " 'kim jongun says north korea is preparing to test longrange missile  ',\n",
       " 'sick with a cold queen elizabeth misses new years service  ',\n",
       " 'taiwans president accuses china of renewed intimidation  ',\n",
       " 'after the biggest loser their bodies fought to regain weight  ',\n",
       " 'first a mixtape then a romance  ',\n",
       " 'calling on angels while enduring the trials of job  ']"
      ]
     },
     "execution_count": 4,
     "metadata": {},
     "output_type": "execute_result"
    }
   ],
   "source": [
    "import re\n",
    "def clean_text(txt):\n",
    "    t = txt\n",
    "    if 'The New York Times' in txt:\n",
    "        t = txt.replace('The New York Times','')\n",
    "    t = re.sub(r'[^\\w\\s]', '', t).lower()\n",
    "    t = t.encode(\"utf8\").decode(\"ascii\",'ignore')\n",
    "    return t \n",
    "\n",
    "corpus = [clean_text(x) for x in all_headlines]\n",
    "corpus[:10]"
   ]
  },
  {
   "cell_type": "code",
   "execution_count": 8,
   "id": "fd0699fd",
   "metadata": {},
   "outputs": [],
   "source": [
    "corpus = corpus[::3]"
   ]
  },
  {
   "cell_type": "markdown",
   "id": "784aecc7",
   "metadata": {},
   "source": [
    "# Tokenization"
   ]
  },
  {
   "cell_type": "code",
   "execution_count": 9,
   "id": "cdb290f0",
   "metadata": {},
   "outputs": [
    {
     "data": {
      "text/plain": [
       "[[53, 129],\n",
       " [53, 129, 5752],\n",
       " [53, 129, 5752, 25],\n",
       " [53, 129, 5752, 25, 721],\n",
       " [53, 129, 5752, 25, 721, 77],\n",
       " [53, 129, 5752, 25, 721, 77, 107],\n",
       " [53, 129, 5752, 25, 721, 77, 107, 170],\n",
       " [53, 129, 5752, 25, 721, 77, 107, 170, 1243],\n",
       " [2658, 1],\n",
       " [2658, 1, 326]]"
      ]
     },
     "execution_count": 9,
     "metadata": {},
     "output_type": "execute_result"
    }
   ],
   "source": [
    "tokenizer = Tokenizer()\n",
    "\n",
    "def get_sequence_of_tokens(corpus):\n",
    "    ## tokenization\n",
    "    tokenizer.fit_on_texts(corpus)\n",
    "    total_words = len(tokenizer.word_index) + 1\n",
    "    \n",
    "    ## convert data to sequence of tokens \n",
    "    input_sequences = []\n",
    "    for line in corpus:\n",
    "        token_list = tokenizer.texts_to_sequences([line])[0]\n",
    "        for i in range(1, len(token_list)):\n",
    "            n_gram_sequence = token_list[:i+1]\n",
    "            input_sequences.append(n_gram_sequence)\n",
    "    return input_sequences, total_words\n",
    "\n",
    "inp_sequences, total_words = get_sequence_of_tokens(corpus)\n",
    "inp_sequences[:10]"
   ]
  },
  {
   "cell_type": "markdown",
   "id": "b60a16c4",
   "metadata": {},
   "source": [
    "# Padding the Sequences and obtain Variables"
   ]
  },
  {
   "cell_type": "code",
   "execution_count": 10,
   "id": "b8d603ec",
   "metadata": {},
   "outputs": [],
   "source": [
    "def generate_padded_sequences(input_sequences):\n",
    "    max_sequence_len = max([len(x) for x in input_sequences])\n",
    "    input_sequences = np.array(pad_sequences(input_sequences, maxlen=max_sequence_len, padding='pre'))\n",
    "    \n",
    "    predictors, label = input_sequences[:,:-1],input_sequences[:,-1]\n",
    "    label = np_utils.to_categorical(label, num_classes=total_words)\n",
    "    return predictors, label, max_sequence_len\n",
    "\n",
    "predictors, label, max_sequence_len = generate_padded_sequences(inp_sequences)"
   ]
  },
  {
   "cell_type": "markdown",
   "id": "b6a745bf",
   "metadata": {},
   "source": [
    "# Create LSTM Model"
   ]
  },
  {
   "cell_type": "code",
   "execution_count": 14,
   "id": "a0df8ca8",
   "metadata": {},
   "outputs": [
    {
     "name": "stdout",
     "output_type": "stream",
     "text": [
      "Model: \"sequential_1\"\n",
      "_________________________________________________________________\n",
      "Layer (type)                 Output Shape              Param #   \n",
      "=================================================================\n",
      "embedding_1 (Embedding)      (None, 29, 10)            182640    \n",
      "_________________________________________________________________\n",
      "lstm_1 (LSTM)                (None, 100)               44400     \n",
      "_________________________________________________________________\n",
      "dropout_1 (Dropout)          (None, 100)               0         \n",
      "_________________________________________________________________\n",
      "dense_1 (Dense)              (None, 18264)             1844664   \n",
      "=================================================================\n",
      "Total params: 2,071,704\n",
      "Trainable params: 2,071,704\n",
      "Non-trainable params: 0\n",
      "_________________________________________________________________\n"
     ]
    }
   ],
   "source": [
    "def create_model(max_sequence_len, total_words):\n",
    "    input_len = max_sequence_len - 1\n",
    "    model = Sequential()\n",
    "    \n",
    "    # Add Input Embedding Layer\n",
    "    model.add(Embedding(total_words, 10, input_length=input_len))\n",
    "    \n",
    "    # Add Hidden Layer 1 - LSTM Layer\n",
    "    model.add(LSTM(100))\n",
    "    model.add(Dropout(0.1))\n",
    "    \n",
    "    # Add Output Layer\n",
    "    model.add(Dense(total_words, activation='softmax'))\n",
    "\n",
    "    model.compile(loss='categorical_crossentropy', optimizer='adam')\n",
    "    \n",
    "    return model\n",
    "\n",
    "model = create_model(max_sequence_len, total_words)\n",
    "model.summary()"
   ]
  },
  {
   "cell_type": "markdown",
   "id": "4ec8df96",
   "metadata": {},
   "source": [
    "### Train the Model "
   ]
  },
  {
   "cell_type": "code",
   "execution_count": 15,
   "id": "63e95339",
   "metadata": {},
   "outputs": [
    {
     "name": "stdout",
     "output_type": "stream",
     "text": [
      "Epoch 1/30\n",
      "3333/3333 [==============================] - 161s 47ms/step - loss: 8.1620\n",
      "Epoch 2/30\n",
      "3333/3333 [==============================] - 152s 46ms/step - loss: 7.7371\n",
      "Epoch 3/30\n",
      "3333/3333 [==============================] - 149s 45ms/step - loss: 7.5004\n",
      "Epoch 4/30\n",
      "3333/3333 [==============================] - 179s 54ms/step - loss: 7.2663\n",
      "Epoch 5/30\n",
      "3333/3333 [==============================] - 164s 49ms/step - loss: 7.0321\n",
      "Epoch 6/30\n",
      "3333/3333 [==============================] - 163s 49ms/step - loss: 6.8009\n",
      "Epoch 7/30\n",
      "3333/3333 [==============================] - 156s 47ms/step - loss: 6.5785\n",
      "Epoch 8/30\n",
      "3333/3333 [==============================] - 157s 47ms/step - loss: 6.3621\n",
      "Epoch 9/30\n",
      "3333/3333 [==============================] - 150s 45ms/step - loss: 6.1497\n",
      "Epoch 10/30\n",
      "3333/3333 [==============================] - 136s 41ms/step - loss: 5.9382\n",
      "Epoch 11/30\n",
      "3333/3333 [==============================] - 129s 39ms/step - loss: 5.7351\n",
      "Epoch 12/30\n",
      "3333/3333 [==============================] - 126s 38ms/step - loss: 5.5417\n",
      "Epoch 13/30\n",
      "3333/3333 [==============================] - 123s 37ms/step - loss: 5.3562\n",
      "Epoch 14/30\n",
      "3333/3333 [==============================] - 126s 38ms/step - loss: 5.1834\n",
      "Epoch 15/30\n",
      "3333/3333 [==============================] - 145s 44ms/step - loss: 5.0256\n",
      "Epoch 16/30\n",
      "3333/3333 [==============================] - 143s 43ms/step - loss: 4.8740\n",
      "Epoch 17/30\n",
      "3333/3333 [==============================] - 141s 42ms/step - loss: 4.7304\n",
      "Epoch 18/30\n",
      "3333/3333 [==============================] - 151s 45ms/step - loss: 4.6003\n",
      "Epoch 19/30\n",
      "3333/3333 [==============================] - 142s 43ms/step - loss: 4.4761\n",
      "Epoch 20/30\n",
      "3333/3333 [==============================] - 144s 43ms/step - loss: 4.3656\n",
      "Epoch 21/30\n",
      "3333/3333 [==============================] - 150s 45ms/step - loss: 4.2525\n",
      "Epoch 22/30\n",
      "3333/3333 [==============================] - 143s 43ms/step - loss: 4.1583\n",
      "Epoch 23/30\n",
      "3333/3333 [==============================] - 142s 43ms/step - loss: 4.0655\n",
      "Epoch 24/30\n",
      "3333/3333 [==============================] - 141s 42ms/step - loss: 3.9803\n",
      "Epoch 25/30\n",
      "3333/3333 [==============================] - 144s 43ms/step - loss: 3.8977\n",
      "Epoch 26/30\n",
      "3333/3333 [==============================] - 141s 42ms/step - loss: 3.8224\n",
      "Epoch 27/30\n",
      "3333/3333 [==============================] - 140s 42ms/step - loss: 3.7560\n",
      "Epoch 28/30\n",
      "3333/3333 [==============================] - 142s 43ms/step - loss: 3.6962\n",
      "Epoch 29/30\n",
      "3333/3333 [==============================] - 135s 41ms/step - loss: 3.6333\n",
      "Epoch 30/30\n",
      "3333/3333 [==============================] - 135s 40ms/step - loss: 3.5784\n"
     ]
    }
   ],
   "source": [
    "lstm = model.fit(predictors, label, epochs=30, verbose=1)"
   ]
  },
  {
   "cell_type": "code",
   "execution_count": 18,
   "id": "79894079",
   "metadata": {},
   "outputs": [
    {
     "data": {
      "image/png": "[encoded data removed]",
      "text/plain": [
       "<Figure size 576x288 with 1 Axes>"
      ]
     },
     "metadata": {
      "needs_background": "light"
     },
     "output_type": "display_data"
    }
   ],
   "source": [
    "import matplotlib.pyplot as plt\n",
    "plt.figure(figsize=(8,4))\n",
    "plt.plot(lstm.history['loss'], label='Train Loss')\n",
    "plt.title('model loss')\n",
    "plt.ylabel('loss')\n",
    "plt.xlabel('epochs')\n",
    "plt.legend(loc='upper right')\n",
    "plt.show()"
   ]
  },
  {
   "cell_type": "markdown",
   "id": "16c5c6b2",
   "metadata": {},
   "source": [
    "# Predictions"
   ]
  },
  {
   "cell_type": "code",
   "execution_count": 22,
   "id": "cacf4ca9",
   "metadata": {},
   "outputs": [],
   "source": [
    "def generate_text(seed_text, next_words, model, max_sequence_len):\n",
    "    for _ in range(next_words):\n",
    "        token_list = tokenizer.texts_to_sequences([seed_text])[0]\n",
    "        token_list = pad_sequences([token_list], maxlen=max_sequence_len-1, padding='pre')\n",
    "        predicted = np.argmax(model.predict(token_list), axis=-1)\n",
    "        \n",
    "        output_word = \"\"\n",
    "        for word,index in tokenizer.word_index.items():\n",
    "            if index == predicted:\n",
    "                output_word = word\n",
    "                break\n",
    "        seed_text += \" \"+output_word\n",
    "    return seed_text.title()"
   ]
  },
  {
   "cell_type": "code",
   "execution_count": 46,
   "id": "c487b1e6",
   "metadata": {},
   "outputs": [
    {
     "name": "stdout",
     "output_type": "stream",
     "text": [
      "China Is Making The Worst System To Be Up\n",
      "Rescue Says Syria Student Is Serious For Gun Control Dies\n",
      "Donald Trump And Bikers Share Affection To Be President To Shut Out\n",
      "Elon Musk Says Robots Is A Bad Computer Reality Breitbart\n",
      "Game Of Thrones Season 6 Episode Tom Homes Are Going To Save\n"
     ]
    }
   ],
   "source": [
    "print(generate_text(\"china\", 8, model, max_sequence_len))\n",
    "print(generate_text(\"rescue\", 9, model, max_sequence_len))\n",
    "print(generate_text(\"donald trump\", 10, model, max_sequence_len))\n",
    "print(generate_text(\"elon musk\", 8, model, max_sequence_len))\n",
    "print(generate_text(\"game of thrones\", 9, model, max_sequence_len))"
   ]
  }
 ],
 "metadata": {
  "kernelspec": {
   "display_name": "Python 3",
   "language": "python",
   "name": "python3"
  },
  "language_info": {
   "codemirror_mode": {
    "name": "ipython",
    "version": 3
   },
   "file_extension": ".py",
   "mimetype": "text/x-python",
   "name": "python",
   "nbconvert_exporter": "python",
   "pygments_lexer": "ipython3",
   "version": "3.8.8"
  }
 },
 "nbformat": 4,
 "nbformat_minor": 5
}
